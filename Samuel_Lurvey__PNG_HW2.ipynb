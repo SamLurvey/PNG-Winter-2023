{
  "nbformat": 4,
  "nbformat_minor": 0,
  "metadata": {
    "colab": {
      "provenance": [],
      "include_colab_link": true
    },
    "kernelspec": {
      "name": "python3",
      "display_name": "Python 3"
    },
    "language_info": {
      "name": "python"
    }
  },
  "cells": [
    {
      "cell_type": "markdown",
      "metadata": {
        "id": "view-in-github",
        "colab_type": "text"
      },
      "source": [
        "<a href=\"https://colab.research.google.com/github/direamic/PNG-Winter-2023/blob/main/Samuel_Lurvey__PNG_HW2.ipynb\" target=\"_parent\"><img src=\"https://colab.research.google.com/assets/colab-badge.svg\" alt=\"Open In Colab\"/></a>"
      ]
    },
    {
      "cell_type": "markdown",
      "source": [
        "Paragon National Group Winter 2023\n",
        "Computer Science Track\n",
        "HW 2\n",
        "\n",
        "Assigned: January 16, 2022\n",
        "Due: January 22, 2022 11:59pm\n",
        "\n",
        "This is the second programming assignment of the computer science track. For each function, a skeleton is provided, where your job is to fill the *TODO* out. The questions will cover the topics learned in the second lecture, which entailed conditionals, recursive functions, and for and while loops."
      ],
      "metadata": {
        "id": "RWFyCcQ9nc4Q"
      }
    },
    {
      "cell_type": "code",
      "source": [
        "# This function takes a natural number as an argument (so it can't be negative) \n",
        "# and returns a boolean value of true or false that shows whether the inputted \n",
        "# number is a palindrome or not. A palindrome is something that reads the same \n",
        "# backward as forward (i.e. '2002'). Use a for or while for the implementation \n",
        "# of this function.\n",
        "# Ex) iterative_palindrome(1) -> true\n",
        "#     iterative_palindrome(12) -> false\n",
        "#     iterative_palindrome(2468642) -> true\n",
        "def iterative_palindrome(n):\n",
        "    palindrome = True\n",
        "    num = str(n)\n",
        "    i=0\n",
        "    while(i <= len(num)//2-1):\n",
        "     if num[i] != num[len(num)-1-i]:\n",
        "        palindrome = False\n",
        "     i += 1\n",
        "    return palindrome\n",
        "\n",
        "# test functions\n",
        "print(iterative_palindrome(1))\n",
        "print(iterative_palindrome(12))\n",
        "print(iterative_palindrome(2468642))\n",
        "print(iterative_palindrome(22))\n",
        "print(iterative_palindrome(316))"
      ],
      "metadata": {
        "id": "YjN_xx_EnnVy",
        "colab": {
          "base_uri": "https://localhost:8080/"
        },
        "outputId": "fac8d45a-ed7b-4429-e2ce-fa4da812ba7d"
      },
      "execution_count": 25,
      "outputs": [
        {
          "output_type": "stream",
          "name": "stdout",
          "text": [
            "True\n",
            "False\n",
            "True\n",
            "True\n",
            "False\n"
          ]
        }
      ]
    },
    {
      "cell_type": "code",
      "source": [
        "# This function is the same as iterative_palindrome() except instead of using a\n",
        "# loop, implement the function in a recursive way.\n",
        "# Ex) recursive_palindrome(1) -> true\n",
        "#     recursive_palindrome(12) -> false\n",
        "#     recursive_palindrome(2468642) -> true\n",
        "def recursive_palindrome(n):\n",
        "    num = str(n)\n",
        "    if len(num) == 1:\n",
        "      return True\n",
        "    if num[0] == num[len(num)-1] and recursive_palindrome(int(num[1:len(num)-1])):\n",
        "      return True\n",
        "    return False\n",
        "\n",
        "print(recursive_palindrome(1))\n",
        "print(recursive_palindrome(12))\n",
        "print(recursive_palindrome(2468642))\n",
        "print(iterative_palindrome(22))\n",
        "print(iterative_palindrome(316))"
      ],
      "metadata": {
        "id": "NawDWFCBnzrY",
        "colab": {
          "base_uri": "https://localhost:8080/"
        },
        "outputId": "0ebaf8d3-5be9-499f-d27c-eb3257a273c1"
      },
      "execution_count": 32,
      "outputs": [
        {
          "output_type": "stream",
          "name": "stdout",
          "text": [
            "True\n",
            "False\n",
            "True\n",
            "True\n",
            "False\n"
          ]
        }
      ]
    },
    {
      "cell_type": "code",
      "execution_count": 1,
      "metadata": {
        "id": "A08W94p6mzMG"
      },
      "outputs": [],
      "source": [
        "# This function reads a file and returns the longest word in the file.\n",
        "def longest_word(fname):\n",
        "    longest = \"\" \n",
        "    file = open(fname,\"r\")\n",
        "    for line in file:\n",
        "      words = line.split()\n",
        "      for word in words:\n",
        "        word = word.replace(\".\",\"\")\n",
        "        word = word.replace(\",\",\"\")\n",
        "        word = word.replace(\"!\",\"\")\n",
        "        word = word.replace(\"?\",\"\")\n",
        "        if len(word) > len(longest):\n",
        "          longest = word\n",
        "    file.close()\n",
        "    return longest\n",
        "\n",
        "print(longest_word('e.txt'))"
      ]
    }
  ]
}