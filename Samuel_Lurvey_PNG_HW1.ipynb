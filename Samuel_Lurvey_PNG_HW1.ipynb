{
  "nbformat": 4,
  "nbformat_minor": 0,
  "metadata": {
    "colab": {
      "provenance": [],
      "include_colab_link": true
    },
    "kernelspec": {
      "name": "python3",
      "display_name": "Python 3"
    },
    "language_info": {
      "name": "python"
    }
  },
  "cells": [
    {
      "cell_type": "markdown",
      "metadata": {
        "id": "view-in-github",
        "colab_type": "text"
      },
      "source": [
        "<a href=\"https://colab.research.google.com/github/direamic/PNG-Winter-2023/blob/main/Samuel_Lurvey_PNG_HW1.ipynb\" target=\"_parent\"><img src=\"https://colab.research.google.com/assets/colab-badge.svg\" alt=\"Open In Colab\"/></a>"
      ]
    },
    {
      "cell_type": "markdown",
      "source": [
        "Paragon National Group Spring 2022\n",
        "Computer Science / Data Science Track\n",
        "HW 1\n",
        "\n",
        "Assigned: March 29, 2022\n",
        "Due: April 4, 2022 11:59pm\n",
        "\n",
        "This is the first programming assignment of the computer science track. For each function, a skeleton is provided, where your job is to fill the *TODO* out. Each function is followed by a few lines of code to test if your function works properly. The questions will cover the topics learned in the first lecture, which entailed print statements, various data types, variables, basic operations, and conditionals."
      ],
      "metadata": {
        "id": "uVALs4MG4rSl"
      }
    },
    {
      "cell_type": "code",
      "source": [
        "# This function prints out a sentence saying \"Welcome to the start of the PNG CS\n",
        "# track\"\n",
        "def print_welcome_message():\n",
        "    print(\"Welcome to the start of the PNG CS track\")\n",
        "\n",
        "# For testing\n",
        "print_welcome_message()"
      ],
      "metadata": {
        "id": "QA6vGQO344pM",
        "colab": {
          "base_uri": "https://localhost:8080/"
        },
        "outputId": "94d23cfa-cb14-47d3-98df-db26a453da2d"
      },
      "execution_count": 1,
      "outputs": [
        {
          "output_type": "stream",
          "name": "stdout",
          "text": [
            "Welcome to the start of the PNG CS track\n"
          ]
        }
      ]
    },
    {
      "cell_type": "code",
      "source": [
        "# This function takes the number of cents as an argument and prints the best \n",
        "# combination of quarters, dimes, nickels, and pennies in descending order of\n",
        "# importance (i.e. 25 cents can be split into 25 pennies, but quarters is more\n",
        "# important, thus it would be split into 1 quarter). Assume that the argument given\n",
        "# is non-negative.\n",
        "# Ex) split_change(1) -> 0 quarters, 0 dimes, 0 nickels, 1 penny\n",
        "#     split_change(20) -> 0 quarters, 2 dimes, 0 nickels, 0 pennies\n",
        "#     split_change(67) -> 2 quarters, 1 dime, 1 nickel, 2 pennies \n",
        "def split_change(cents):\n",
        "    num_quarters = cents // 25\n",
        "    cents -= num_quarters*25\n",
        "\n",
        "    num_dimes = cents // 10\n",
        "    cents -= num_dimes*10\n",
        "\n",
        "    num_nickels = cents //5\n",
        "    cents -= num_nickels*5\n",
        "\n",
        "    num_pennies = cents \n",
        "    print(num_quarters, end=\"\")\n",
        "    if(num_quarters != 1): \n",
        "      print(\" quarters, \", end=\"\")\n",
        "    else:\n",
        "      print(\" quarter\", end=\"\")\n",
        "\n",
        "    print(num_dimes, end=\"\")\n",
        "    if(num_dimes != 1): \n",
        "      print(\" dimes, \",end=\"\")\n",
        "    else:\n",
        "      print(\" dime, \", end=\"\")\n",
        "     \n",
        "    print(num_nickels, end=\"\")\n",
        "    if(num_nickels != 1): \n",
        "      print(\" nickels, \", end=\"\")\n",
        "    else:\n",
        "      print(\" nickel, \", end=\"\")\n",
        "\n",
        "    print(num_pennies, end=\"\")\n",
        "    if(num_pennies != 1): \n",
        "      print(\" pennies\")\n",
        "    else:\n",
        "      print(\" penny\")\n",
        "\n",
        "# For testing (it is encouraged to test other values as well)\n",
        "split_change(1)\n",
        "split_change(20)\n",
        "split_change(67)"
      ],
      "metadata": {
        "id": "ctrPjoQT470p",
        "colab": {
          "base_uri": "https://localhost:8080/"
        },
        "outputId": "d604d486-b6b6-421e-9fb3-93397e515da4"
      },
      "execution_count": 11,
      "outputs": [
        {
          "output_type": "stream",
          "name": "stdout",
          "text": [
            "0 quarters, 0 dimes, 0 nickels, 1 penny\n",
            "0 quarters, 2 dimes, 0 nickels, 0 pennies\n",
            "2 quarters, 1 dime, 1 nickel, 2 pennies\n"
          ]
        }
      ]
    },
    {
      "cell_type": "code",
      "source": [
        "# This function takes an array of strings of finite length (the strings can only \n",
        "# either be 'H', 'h', 'T' or 't') as arguments and returns the number of heads \n",
        "# as an integer. Assume that no other strings can be inputted other than those \n",
        "# four types.\n",
        "# Ex) number_of_heads(['H', 'h', 'H', 'H', 'h', 'h', 'H']) -> 7\n",
        "#     number_of_heads(['H', 'T', 'H', 't']) -> 2\n",
        "#     number_of_heads([]) -> 0\n",
        "def number_of_heads(coin_array):\n",
        "    heads = 0\n",
        "    for i in coin_array:\n",
        "      if i == 'H' or i == 'h':\n",
        "        heads += 1\n",
        "\n",
        "    return heads;\n",
        "\n",
        "# For testing (it is encouraged to test other values as well)\n",
        "print(number_of_heads(['H', 'h', 'H', 'H', 'h', 'h', 'H']))\n",
        "print(number_of_heads(['H', 'T', 'H', 't']))\n",
        "print(number_of_heads([]))"
      ],
      "metadata": {
        "id": "flIUWBz64_I0",
        "colab": {
          "base_uri": "https://localhost:8080/"
        },
        "outputId": "a332a949-df67-472a-95bd-b0f913c26fa7"
      },
      "execution_count": 16,
      "outputs": [
        {
          "output_type": "stream",
          "name": "stdout",
          "text": [
            "7\n",
            "2\n",
            "0\n"
          ]
        }
      ]
    },
    {
      "cell_type": "code",
      "source": [
        "# This function takes two dictionaries and returns a single merged dictionary.\n",
        "# If there is a repeated key in both dictionaries, then set the value of that\n",
        "# key in the merged dictionary as the value for that key in dict1\n",
        "# Ex) merge_dictionaries({}, {})\n",
        "#       -> {}\n",
        "#     merge_dictionaries({'PNG': 'Winter'}, {'CS': 'Winter'})\n",
        "#       -> {'PNG': 'Winter', 'CS': 'Winter'}\n",
        "#     merge_dictionaries({'PNG': 'Winter'}, {'PNG': 'Fall'})\n",
        "#       -> {'PNG': 'Winter'}\n",
        "#     merge_dictionaries({'PNG': 'Winter', 'CS': 'Fall'}, {'Quant': 'Spring'})\n",
        "#       -> {'PNG': 'Winter', 'CS': 'Fall', 'Quant': 'Spring'}\n",
        "def merge_dictionaries(dict1, dict2):\n",
        "    dict3 = dict1;\n",
        "    for i in dict2.keys():\n",
        "      if i not in dict1:\n",
        "        dict3[i] = dict2[i]\n",
        "  \n",
        "    return dict3\n",
        "\n",
        "# For testing (it is encouraged to test other values as well)\n",
        "print(merge_dictionaries({'PNG': 'Winter'}, {'CS': 'Winter'}))\n",
        "print(merge_dictionaries({'PNG': 'Winter'}, {'PNG': 'Fall'}))\n",
        "print(merge_dictionaries({'PNG': 'Winter', 'CS': 'Fall'}, {'Quant': 'Spring'}))"
      ],
      "metadata": {
        "id": "kKUWAFnp5Fjv",
        "colab": {
          "base_uri": "https://localhost:8080/"
        },
        "outputId": "c240dbec-1603-4993-f3f2-1b0d087cb7f2"
      },
      "execution_count": 37,
      "outputs": [
        {
          "output_type": "stream",
          "name": "stdout",
          "text": [
            "{'PNG': 'Winter', 'CS': 'Winter'}\n",
            "{'PNG': 'Winter'}\n",
            "{'PNG': 'Winter', 'CS': 'Fall', 'Quant': 'Spring'}\n"
          ]
        }
      ]
    }
  ]
}